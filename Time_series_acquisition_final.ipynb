{
  "cells": [
    {
      "cell_type": "code",
      "source": [
        "from google.colab import drive\n",
        "drive.mount('/content/drive')"
      ],
      "metadata": {
        "colab": {
          "base_uri": "https://localhost:8080/"
        },
        "id": "Eabqo3Z4c_da",
        "outputId": "5ff8ced5-54fd-4e6e-da19-9ddeca9190df"
      },
      "execution_count": null,
      "outputs": [
        {
          "output_type": "stream",
          "name": "stdout",
          "text": [
            "Mounted at /content/drive\n"
          ]
        }
      ]
    },
    {
      "cell_type": "markdown",
      "source": [
        "#import the necessary modules and functions"
      ],
      "metadata": {
        "id": "iQ_zBtLtDq7c"
      }
    },
    {
      "cell_type": "code",
      "source": [
        "!pip install sentinelhub"
      ],
      "outputs": [
        {
          "output_type": "stream",
          "name": "stdout",
          "text": [
            "Looking in indexes: https://pypi.org/simple, https://us-python.pkg.dev/colab-wheels/public/simple/\n",
            "Collecting sentinelhub\n",
            "  Downloading sentinelhub-3.8.1.tar.gz (220 kB)\n",
            "\u001b[2K     \u001b[90m━━━━━━━━━━━━━━━━━━━━━━━━━━━━━━━━━━━━━━━\u001b[0m \u001b[32m220.4/220.4 KB\u001b[0m \u001b[31m5.8 MB/s\u001b[0m eta \u001b[36m0:00:00\u001b[0m\n",
            "\u001b[?25h  Installing build dependencies ... \u001b[?25l\u001b[?25hdone\n",
            "  Getting requirements to build wheel ... \u001b[?25l\u001b[?25hdone\n",
            "  Preparing metadata (pyproject.toml) ... \u001b[?25l\u001b[?25hdone\n",
            "Collecting dataclasses-json\n",
            "  Downloading dataclasses_json-0.5.7-py3-none-any.whl (25 kB)\n",
            "Collecting utm\n",
            "  Downloading utm-0.7.0.tar.gz (8.7 kB)\n",
            "  Preparing metadata (setup.py) ... \u001b[?25l\u001b[?25hdone\n",
            "Requirement already satisfied: tifffile>=2020.9.30 in /usr/local/lib/python3.8/dist-packages (from sentinelhub) (2022.10.10)\n",
            "Collecting pillow>=9.2.0\n",
            "  Downloading Pillow-9.4.0-cp38-cp38-manylinux_2_28_x86_64.whl (3.4 MB)\n",
            "\u001b[2K     \u001b[90m━━━━━━━━━━━━━━━━━━━━━━━━━━━━━━━━━━━━━━━━\u001b[0m \u001b[32m3.4/3.4 MB\u001b[0m \u001b[31m56.1 MB/s\u001b[0m eta \u001b[36m0:00:00\u001b[0m\n",
            "\u001b[?25hRequirement already satisfied: numpy in /usr/local/lib/python3.8/dist-packages (from sentinelhub) (1.21.6)\n",
            "Requirement already satisfied: requests-oauthlib>=1.0.0 in /usr/local/lib/python3.8/dist-packages (from sentinelhub) (1.3.1)\n",
            "Requirement already satisfied: tqdm in /usr/local/lib/python3.8/dist-packages (from sentinelhub) (4.64.1)\n",
            "Requirement already satisfied: shapely in /usr/local/lib/python3.8/dist-packages (from sentinelhub) (2.0.0)\n",
            "Collecting aenum>=2.1.4\n",
            "  Downloading aenum-3.1.11-py3-none-any.whl (131 kB)\n",
            "\u001b[2K     \u001b[90m━━━━━━━━━━━━━━━━━━━━━━━━━━━━━━━━━━━━━━\u001b[0m \u001b[32m131.5/131.5 KB\u001b[0m \u001b[31m15.2 MB/s\u001b[0m eta \u001b[36m0:00:00\u001b[0m\n",
            "\u001b[?25hRequirement already satisfied: python-dateutil in /usr/local/lib/python3.8/dist-packages (from sentinelhub) (2.8.2)\n",
            "Requirement already satisfied: click in /usr/local/lib/python3.8/dist-packages (from sentinelhub) (7.1.2)\n",
            "Collecting requests>=2.27.0\n",
            "  Downloading requests-2.28.2-py3-none-any.whl (62 kB)\n",
            "\u001b[2K     \u001b[90m━━━━━━━━━━━━━━━━━━━━━━━━━━━━━━━━━━━━━━━━\u001b[0m \u001b[32m62.8/62.8 KB\u001b[0m \u001b[31m8.3 MB/s\u001b[0m eta \u001b[36m0:00:00\u001b[0m\n",
            "\u001b[?25hCollecting pyproj>=2.2.0\n",
            "  Downloading pyproj-3.4.1-cp38-cp38-manylinux_2_17_x86_64.manylinux2014_x86_64.whl (7.8 MB)\n",
            "\u001b[2K     \u001b[90m━━━━━━━━━━━━━━━━━━━━━━━━━━━━━━━━━━━━━━━━\u001b[0m \u001b[32m7.8/7.8 MB\u001b[0m \u001b[31m99.2 MB/s\u001b[0m eta \u001b[36m0:00:00\u001b[0m\n",
            "\u001b[?25hRequirement already satisfied: typing-extensions in /usr/local/lib/python3.8/dist-packages (from sentinelhub) (4.4.0)\n",
            "Requirement already satisfied: oauthlib in /usr/local/lib/python3.8/dist-packages (from sentinelhub) (3.2.2)\n",
            "Requirement already satisfied: certifi in /usr/local/lib/python3.8/dist-packages (from pyproj>=2.2.0->sentinelhub) (2022.12.7)\n",
            "Requirement already satisfied: urllib3<1.27,>=1.21.1 in /usr/local/lib/python3.8/dist-packages (from requests>=2.27.0->sentinelhub) (1.24.3)\n",
            "Requirement already satisfied: charset-normalizer<4,>=2 in /usr/local/lib/python3.8/dist-packages (from requests>=2.27.0->sentinelhub) (2.1.1)\n",
            "Requirement already satisfied: idna<4,>=2.5 in /usr/local/lib/python3.8/dist-packages (from requests>=2.27.0->sentinelhub) (2.10)\n",
            "Requirement already satisfied: marshmallow<4.0.0,>=3.3.0 in /usr/local/lib/python3.8/dist-packages (from dataclasses-json->sentinelhub) (3.19.0)\n",
            "Collecting typing-inspect>=0.4.0\n",
            "  Downloading typing_inspect-0.8.0-py3-none-any.whl (8.7 kB)\n",
            "Collecting marshmallow-enum<2.0.0,>=1.5.1\n",
            "  Downloading marshmallow_enum-1.5.1-py2.py3-none-any.whl (4.2 kB)\n",
            "Requirement already satisfied: six>=1.5 in /usr/local/lib/python3.8/dist-packages (from python-dateutil->sentinelhub) (1.15.0)\n",
            "Requirement already satisfied: packaging>=17.0 in /usr/local/lib/python3.8/dist-packages (from marshmallow<4.0.0,>=3.3.0->dataclasses-json->sentinelhub) (21.3)\n",
            "Collecting mypy-extensions>=0.3.0\n",
            "  Downloading mypy_extensions-0.4.3-py2.py3-none-any.whl (4.5 kB)\n",
            "Requirement already satisfied: pyparsing!=3.0.5,>=2.0.2 in /usr/local/lib/python3.8/dist-packages (from packaging>=17.0->marshmallow<4.0.0,>=3.3.0->dataclasses-json->sentinelhub) (3.0.9)\n",
            "Building wheels for collected packages: sentinelhub, utm\n",
            "  Building wheel for sentinelhub (pyproject.toml) ... \u001b[?25l\u001b[?25hdone\n",
            "  Created wheel for sentinelhub: filename=sentinelhub-3.8.1-py3-none-any.whl size=244728 sha256=8cae638f90d7a98c13b816109a6ddb74a32ceecfecbefb7be39457243927855e\n",
            "  Stored in directory: /root/.cache/pip/wheels/58/8f/04/66fbaf64ca4e1ce59add7facd3befbf4d4244d41281b979513\n",
            "  Building wheel for utm (setup.py) ... \u001b[?25l\u001b[?25hdone\n",
            "  Created wheel for utm: filename=utm-0.7.0-py3-none-any.whl size=6108 sha256=8138490eef62bbc2fb79122abd974de13410c4711fef4f658df8ac85fcc7f912\n",
            "  Stored in directory: /root/.cache/pip/wheels/65/e2/d8/878a8cc986641056fbfebefc4d8eb64238a7b6d3426e86b447\n",
            "Successfully built sentinelhub utm\n",
            "Installing collected packages: utm, mypy-extensions, aenum, typing-inspect, requests, pyproj, pillow, marshmallow-enum, dataclasses-json, sentinelhub\n",
            "  Attempting uninstall: requests\n",
            "    Found existing installation: requests 2.25.1\n",
            "    Uninstalling requests-2.25.1:\n",
            "      Successfully uninstalled requests-2.25.1\n",
            "  Attempting uninstall: pillow\n",
            "    Found existing installation: Pillow 7.1.2\n",
            "    Uninstalling Pillow-7.1.2:\n",
            "      Successfully uninstalled Pillow-7.1.2\n",
            "Successfully installed aenum-3.1.11 dataclasses-json-0.5.7 marshmallow-enum-1.5.1 mypy-extensions-0.4.3 pillow-9.4.0 pyproj-3.4.1 requests-2.28.2 sentinelhub-3.8.1 typing-inspect-0.8.0 utm-0.7.0\n"
          ]
        },
        {
          "output_type": "display_data",
          "data": {
            "application/vnd.colab-display-data+json": {
              "pip_warning": {
                "packages": [
                  "PIL"
                ]
              }
            }
          },
          "metadata": {}
        }
      ],
      "execution_count": null,
      "metadata": {
        "colab": {
          "base_uri": "https://localhost:8080/",
          "height": 1000
        },
        "outputId": "210174cc-30ce-4cd4-f7e7-9befd7e72003",
        "id": "2Pif0HW-W-BG"
      }
    },
    {
      "cell_type": "code",
      "source": [
        "from sentinelhub import SHConfig\n",
        "\n",
        "client_id = '758ff8a3-3d39-44cd-8a48-d54ec69da99e'\n",
        "client_secret = '6MA||#*6&;li)cAdCGRxVYG76DF<0TD}UH|DNSq>'"
      ],
      "outputs": [],
      "execution_count": null,
      "metadata": {
        "id": "554B4QWJ06jt",
        "gather": {
          "logged": 1664203285356
        }
      }
    },
    {
      "cell_type": "code",
      "source": [
        "config = SHConfig()\n",
        "\n",
        "if client_id and client_secret:\n",
        "  config.sh_client_id = client_id\n",
        "  config.sh_client_secret = client_secret\n",
        "\n",
        "if not config.sh_client_id or not config.sh_client_secret:\n",
        "    print(\"Warning! To use Process API, please provide the credentials (OAuth client ID and client secret).\")"
      ],
      "outputs": [],
      "execution_count": null,
      "metadata": {
        "id": "D8TOb6gjYr4V",
        "gather": {
          "logged": 1664203287496
        }
      }
    },
    {
      "cell_type": "code",
      "source": [
        "%reload_ext autoreload\n",
        "%autoreload 2\n",
        "%matplotlib inline"
      ],
      "outputs": [],
      "execution_count": null,
      "metadata": {
        "id": "k59xkNgrW2fF"
      }
    },
    {
      "cell_type": "code",
      "source": [
        "!pip install utils"
      ],
      "outputs": [
        {
          "output_type": "stream",
          "name": "stdout",
          "text": [
            "Looking in indexes: https://pypi.org/simple, https://us-python.pkg.dev/colab-wheels/public/simple/\n",
            "Collecting utils\n",
            "  Downloading utils-1.0.1-py2.py3-none-any.whl (21 kB)\n",
            "Installing collected packages: utils\n",
            "Successfully installed utils-1.0.1\n"
          ]
        }
      ],
      "execution_count": null,
      "metadata": {
        "colab": {
          "base_uri": "https://localhost:8080/"
        },
        "id": "nosPyy1D2KUq",
        "outputId": "efdcb156-2ba3-4d7a-c968-4caff294836e"
      }
    },
    {
      "cell_type": "code",
      "source": [
        "import datetime\n",
        "import os\n",
        "\n",
        "import matplotlib.pyplot as plt\n",
        "import numpy as np\n",
        "\n",
        "\n",
        "def plot_image(image, factor=1.0, clip_range=None, **kwargs):\n",
        "    \"\"\"\n",
        "    Utility function for plotting RGB images.\n",
        "    \"\"\"\n",
        "    fig, ax = plt.subplots(nrows=1, ncols=1, figsize=(15, 15))\n",
        "    if clip_range is not None:\n",
        "        ax.imshow(np.clip(image * factor, *clip_range), **kwargs)\n",
        "    else:\n",
        "        ax.imshow(image * factor, **kwargs)\n",
        "    ax.set_xticks([])\n",
        "    ax.set_yticks([])\n",
        "\n",
        "from sentinelhub import (\n",
        "    CRS,\n",
        "    BBox,\n",
        "    DataCollection,\n",
        "    DownloadRequest,\n",
        "    MimeType,\n",
        "    MosaickingOrder,\n",
        "    SentinelHubDownloadClient,\n",
        "    SentinelHubRequest,\n",
        "    bbox_to_dimensions,\n",
        ")"
      ],
      "outputs": [],
      "execution_count": null,
      "metadata": {
        "id": "t3OFPZMbW2XW",
        "gather": {
          "logged": 1664203294663
        }
      }
    },
    {
      "cell_type": "markdown",
      "source": [
        "#Coordinates of the AOI (Area Of Interest)"
      ],
      "metadata": {
        "id": "fN_c2dPFDmDy"
      }
    },
    {
      "cell_type": "code",
      "source": [
        "salt_coords_wgs84 = [\n",
        "  10.849685,\n",
        "  33.315324,\n",
        "  11.081773,\n",
        "  33.452355\n",
        "]\n",
        "resolution = 60\n",
        "salt_bbox = BBox(bbox=salt_coords_wgs84, crs=CRS.WGS84)\n",
        "salt_size = bbox_to_dimensions(salt_bbox, resolution=resolution)\n",
        "\n",
        "print(f\"Image shape at {resolution} m resolution: {salt_size} pixels\")"
      ],
      "outputs": [
        {
          "output_type": "stream",
          "name": "stdout",
          "text": [
            "Image shape at 60 m resolution: (355, 260) pixels\n"
          ]
        }
      ],
      "execution_count": null,
      "metadata": {
        "colab": {
          "base_uri": "https://localhost:8080/"
        },
        "id": "jrAXhvdtW2Ul",
        "outputId": "e8ff04d8-695c-4aa8-95a6-d56dfb93de77",
        "gather": {
          "logged": 1664203297177
        }
      }
    },
    {
      "cell_type": "markdown",
      "source": [
        "#Different scripts we'll be using"
      ],
      "metadata": {
        "nteract": {
          "transient": {
            "deleting": false
          }
        },
        "id": "MIMfLsWN2vNo"
      }
    },
    {
      "cell_type": "code",
      "source": [
        "evalscript_true_color = \"\"\"\n",
        "    //VERSION=3\n",
        "\n",
        "    function setup() {\n",
        "        return {\n",
        "            input: [{\n",
        "                bands: [\"B02\", \"B03\", \"B04\"]\n",
        "            }],\n",
        "            output: {\n",
        "                bands: 3\n",
        "            }\n",
        "        };\n",
        "    }\n",
        "\n",
        "    function evaluatePixel(sample) {\n",
        "        return [sample.B04, sample.B03, sample.B02];\n",
        "    }\n",
        "\"\"\"\n"
      ],
      "outputs": [],
      "execution_count": null,
      "metadata": {
        "id": "WLlw902-W2SO",
        "gather": {
          "logged": 1664203304851
        }
      }
    },
    {
      "cell_type": "code",
      "source": [
        "evalscript_swir = \"\"\"\n",
        "//VERSION=3\n",
        "function setup() {\n",
        "  return {\n",
        "    input: [\"B12\",\"B8A\",\"B04\", \"dataMask\"],\n",
        "    output: { bands: 4 }\n",
        "  };\n",
        "}\n",
        "\n",
        "function evaluatePixel(sample) {\n",
        "  return [2.5 * sample.B12,2.5 * sample.B8A,2.5 * sample.B04, sample.dataMask ];\n",
        "}\n",
        "\"\"\""
      ],
      "metadata": {
        "id": "LA3C2E6pFdvw"
      },
      "execution_count": null,
      "outputs": []
    },
    {
      "cell_type": "code",
      "source": [
        "evalscript_barren_soil = \"\"\"\n",
        "//VERSION=3 (auto-converted from 1)\n",
        "\n",
        "//Author: Monja Sebela\n",
        "\n",
        "function evaluatePixel(s) {\n",
        "    let val = 2.5 * ((s.B11 + s.B04)-(s.B08 + s.B02))/((s.B11 + s.B04)+(s.B08 + s.B02));\n",
        "    return [2.5* val, s.B08, s.B11];\n",
        "}\n",
        "function setup() {\n",
        "  return {\n",
        "    input: [{\n",
        "      bands: [\"B02\",\"B04\",\"B08\",\"B11\",\"B12\"]\n",
        "    }],\n",
        "    output: { bands: 3 }\n",
        "  }\n",
        "  \"\"\""
      ],
      "metadata": {
        "id": "DL-pB_ZQvy4Z"
      },
      "execution_count": null,
      "outputs": []
    },
    {
      "cell_type": "code",
      "source": [
        "evalscript_ndvi = \"\"\"\n",
        "let ndvi = (B08 - B04) / (B08 + B04);\n",
        "\n",
        "//Visualization, as used in EO Browser:\n",
        "if (ndvi<-1.1) return [0,0,0];\n",
        "else if (ndvi<-0.2) return [0.75,0.75,0.75];\n",
        "else if (ndvi<-0.1) return [0.86,0.86,0.86];\n",
        "else if (ndvi<0) return [1,1,0.88];\n",
        "else if (ndvi<0.025) return [1,0.98,0.8];\n",
        "else if (ndvi<0.05) return [0.93,0.91,0.71];\n",
        "else if (ndvi<0.075) return [0.87,0.85,0.61];\n",
        "else if (ndvi<0.1) return [0.8,0.78,0.51];\n",
        "else if (ndvi<0.125) return [0.74,0.72,0.42];\n",
        "else if (ndvi<0.15) return [0.69,0.76,0.38];\n",
        "else if (ndvi<0.175) return [0.64,0.8,0.35];\n",
        "else if (ndvi<0.2) return [0.57,0.75,0.32];\n",
        "else if (ndvi<0.25) return [0.5,0.7,0.28];\n",
        "else if (ndvi<0.3) return [0.44,0.64,0.25];\n",
        "else if (ndvi<0.35) return [0.38,0.59,0.21];\n",
        "else if (ndvi<0.4) return [0.31,0.54,0.18];\n",
        "else if (ndvi<0.45) return [0.25,0.49,0.14];\n",
        "else if (ndvi<0.5) return [0.19,0.43,0.11];\n",
        "else if (ndvi<0.55) return [0.13,0.38,0.07];\n",
        "else if (ndvi<0.6) return [0.06,0.33,0.04];\n",
        "else return [0,0.27,0];\n",
        "\"\"\""
      ],
      "metadata": {
        "id": "64l3kywLyCZ2"
      },
      "execution_count": null,
      "outputs": []
    },
    {
      "cell_type": "code",
      "source": [
        "evalscript_waterquality = \"\"\"\n",
        "/*\n",
        "Name:    Sentinel-2 Water Quality (Se2WaQ) \n",
        "Version: 1.0\n",
        "Date:    2020-01-31\n",
        "Author:      Nuno Sidónio Andrade Pereira\n",
        "Affiliation: Polytechnic Institute of Beja, Portugal\n",
        "License:     Attribution-NonCommercial-ShareAlike 4.0 International (CC BY-NC-SA 4.0)\n",
        "Refs.: [1]M. Potes et al., “Use of Sentinel 2 – MSI for water quality \n",
        "          monitoring at Alqueva reservoir, Portugal,” Proc. Int. Assoc. \n",
        "          Hydrol. Sci., vol. 380, pp. 73–79, Dec. 2018.\n",
        "       [2]K. Toming, T. Kutser, A. Laas, M. Sepp, B. Paavel, and T. Nõges,\n",
        "          “First Experiences in Mapping Lake Water Quality Parameters with\n",
        "          Sentinel-2 MSI Imagery,” Remote Sens., vol. 8, no. 8, p. 640, \n",
        "          Aug. 2016.\n",
        "*/\n",
        "\n",
        "// user defined FLAGs\n",
        "var FLAGparam = 5;\n",
        "var FLAGbackGround = 2;\n",
        "\n",
        "// Water-land contrast index (to define the background)\n",
        "var NDWI = index(B03, B08); \n",
        "\n",
        "// Background indexes                           \n",
        "var Black = [0];                                       // FLAGbackGround = 0\n",
        "var NDVI = index(B08, B04);                            // FLAGbackGround = 1\n",
        "var TrueColor = [B04*2.5, B03*2.5, B02*2.5];           // FLAGbackGround = 2\n",
        "\n",
        "// Empirical models\n",
        "var Chl_a = 4.26 * Math.pow(B03/B01, 3.94);            // FLAGparam = 0; S2-L2A; [1] Unit: mg/m3;        \n",
        "var Cya = 115530.31 * Math.pow(B03 * B04 / B02, 2.38); // FLAGparam = 1; S2-L2A; [1] Unit: 10^3 cell/ml; \n",
        "var Turb = 8.93 * (B03/B01) - 6.39;                    // FLAGparam = 2; S2-L2A; [1] Unit: NTU;          \n",
        "var CDOM = 537 * Math.exp(-2.93*B03/B04);              // FLAGparam = 3; S2-L1C; [2] Unit: mg/l;         \n",
        "var DOC = 432 * Math.exp(-2.24*B03/B04);               // FLAGparam = 4; S2-L1C; [2] Unit: mg/l;         \n",
        "var Color = 25366 * Math.exp(-4.53*B03/B04);           // FLAGparam = 5; S2-L1C; [2] Unit: mg.Pt/l;      \n",
        "\n",
        "// Numerical values for the scales of parameters\n",
        "var scaleChl_a = [0, 6, 12, 20, 30, 50];\n",
        "var scaleCya   = [0, 10, 20, 40, 50, 100];\n",
        "var scaleTurb  = [0, 4, 8, 12, 16, 20];\n",
        "var scaleCDOM  = [0, 1, 2, 3, 4, 5];\n",
        "var scaleDOC   = [0, 5, 10, 20, 30, 40];\n",
        "var scaleColor = [0, 10, 20, 30, 40, 50];\n",
        "\n",
        "// Colors for the scales\n",
        "var s = 255;\n",
        "var colorScale = \n",
        "  [\n",
        "   [73/s, 111/s, 242/s],\n",
        "   [130/s, 211/s, 95/s],\n",
        "   [254/s, 253/s, 5/s],\n",
        "   [253/s, 0/s, 4/s],\n",
        "   [142/s, 32/s, 38/s],\n",
        "   [217/s, 124/s, 245/s]\n",
        "  ];\n",
        "\n",
        "// Image generation\n",
        "if (NDWI<0) {\n",
        "  if ( FLAGbackGround == 0 ) {\n",
        "    return Black;\n",
        "  } else if ( FLAGbackGround == 1 ) {\n",
        "    return [0, .5*(NDVI+1), 0];\n",
        "  } else if ( FLAGbackGround == 2 ) {\n",
        "    return TrueColor;\n",
        "  }\n",
        "} else {\n",
        "  switch ( FLAGparam ) {\n",
        "    case 0:\n",
        "     return colorBlend(Chl_a, scaleChl_a, colorScale);\n",
        "     break;\n",
        "    case 1:\n",
        "      return colorBlend(Cya, scaleCya, colorScale);\n",
        "      break;\n",
        "    case 2:\n",
        "      return colorBlend(Turb, scaleTurb, colorScale);\n",
        "      break;\n",
        "    case 3:\n",
        "      return colorBlend(CDOM, scaleCDOM, colorScale);\n",
        "      break;\n",
        "    case 4:\n",
        "      return colorBlend(DOC, scaleDOC, colorScale);\n",
        "      break;\n",
        "    case 5:\n",
        "      return colorBlend(Color, scaleColor, colorScale);\n",
        "      break;\n",
        "    default:\n",
        "      return TrueColor;\n",
        "  }\n",
        "}\n",
        "\"\"\""
      ],
      "metadata": {
        "id": "sRChDL6_F7GB"
      },
      "execution_count": null,
      "outputs": []
    },
    {
      "cell_type": "code",
      "source": [
        "evalscript_ndmi = \"\"\"\n",
        "if (B8A == 0 || B11 == 0){\n",
        "  return [0,0,0];\n",
        "} else {\n",
        "  var val = (B8A - B11)/(B8A + B11);\n",
        "  \n",
        "  var vmin = -0.8;\n",
        "  var vmax = 0.8;\n",
        "  var dv = vmax - vmin;\n",
        "  \n",
        "  var r = 0.0;\n",
        "  var g = 0.0;\n",
        "  var b = 0.0;\n",
        "\n",
        "  \n",
        "  var v = val;\n",
        "\n",
        "  if (v < vmin){\n",
        "    v = vmin;\n",
        "  }\n",
        "  if (v > vmax){\n",
        "    v = vmax;\n",
        "  }\n",
        "  \n",
        "  var l1 = 0.35;\n",
        "  var l2 = 0.48;\n",
        "  var l3 = 0.52;\n",
        "  var l4 = 0.65;\n",
        "  \n",
        "  var level1 = (vmin + l1 * dv);\n",
        "  var level2 = (vmin + l2 * dv);\n",
        "  var level3 = (vmin + l3 * dv);\n",
        "  var level4 = (vmin + l4 * dv);\n",
        "\n",
        "  if (v < level1){\n",
        "     r = 0.5 +  (v - vmin) / (level1 - vmin) / 2;\n",
        "  } else if (v < level2) {\n",
        "     r = 1;\n",
        "     g = (v - level1) / (level2 - level1);\n",
        "     b = 0;\n",
        "  } else if (v < level3) {\n",
        "     r = 1 + (level2 - v) / (level3 - level2);\n",
        "     g = 1;\n",
        "     b = (v - level2) / (level3 - level2);\n",
        "  } else if (v < level4) {\n",
        "     r = 0;\n",
        "     g = 1 + (level3 - v) / (level4 - level3);\n",
        "     b = 1;\n",
        "  } else {\n",
        "     b = 1.0 + (level4 - v) / (vmax - level4) / 2;\n",
        "  }\n",
        "\n",
        "   return [r, g, b];\n",
        "  \n",
        "}\n",
        "\"\"\""
      ],
      "metadata": {
        "id": "7Mjw3s4xGN7Y"
      },
      "execution_count": null,
      "outputs": []
    },
    {
      "cell_type": "code",
      "source": [
        "evalscript_wetlands = \"\"\"\n",
        "// Detecting the Presence of Water in Wetlands with Sentinel-2 Satellite (abbrv. WIW)\n",
        "//\n",
        "// General formula: IF B8A<0.1804 AND B12<0.1131 THEN Water ELSE NoWater\n",
        "//\n",
        "// URL https://www.indexdatabase.de/db/xxxxxxxxxxxxxxxxxxxxxxxxxxxxxxx//\n",
        "\n",
        "return B8A<0.1804&&B12<0.1131?[51/255,68/255,170/255]:[B04*5,B03*5,B02*5];\n",
        "\n",
        "// colorBlend will return a blue color when surface water is detected, and lighten to a natural color when no water is detected\n",
        "\"\"\""
      ],
      "metadata": {
        "id": "xSc9Z04bIRvB"
      },
      "execution_count": null,
      "outputs": []
    },
    {
      "cell_type": "code",
      "source": [
        "evalscript_ndwi = \"\"\"\n",
        "//VERSION=3\n",
        "//This script was converted from v1 to v3 using the converter API\n",
        "\n",
        "//ndwi\n",
        "var colorRamp1 = [\n",
        "  \t[0, 0xFFFFFF],\n",
        "  \t[1, 0x008000]\n",
        "  ];\n",
        "var colorRamp2 = [\n",
        "  \t[0, 0xFFFFFF],\n",
        "  \t[1, 0x0000CC]\n",
        "  ];\n",
        "\n",
        "let viz1 = new ColorRampVisualizer(colorRamp1);\n",
        "let viz2 = new ColorRampVisualizer(colorRamp2);\n",
        "\n",
        "function evaluatePixel(samples) {\n",
        "  var val = index(samples.B03, samples.B08);\n",
        "\n",
        "  if (val < -0) {\n",
        "    return viz1.process(-val);\n",
        "  } else {\n",
        "    return viz2.process(Math.sqrt(Math.sqrt(val)));\n",
        "  }\n",
        "}\n",
        "\n",
        "function setup() {\n",
        "  return {\n",
        "    input: [{\n",
        "      bands: [\n",
        "        \"B03\",\n",
        "        \"B08\"\n",
        "      ]\n",
        "    }],\n",
        "    output: {\n",
        "      bands: 3\n",
        "    }\n",
        "  }\n",
        "}\n",
        "\"\"\""
      ],
      "metadata": {
        "id": "cXr3QXANJxAN"
      },
      "execution_count": null,
      "outputs": []
    },
    {
      "cell_type": "code",
      "source": [
        "evalscript_ndsi = \"\"\"\n",
        "////VERSION=3 (auto-converted from 1)\n",
        "// MODIS Normalized Difference Salinity Index (NDSI)\n",
        "// https://www.indexdatabase.de/db/si-single.php?rsindex_id=57=&sensor_id=14\n",
        "\n",
        "\n",
        "let viz = ColorGradientVisualizer.createWhiteGreen(-0.89, 0.89);\n",
        "\n",
        "function evaluatePixel(samples) {\n",
        "    let val = index(samples.B06, samples.B07);\n",
        "    return [...viz.process(val),samples.dataMask];\n",
        "}\n",
        "\n",
        "function setup() {\n",
        "  return {\n",
        "    input: [{\n",
        "      bands: [ \"B06\", \"B07\", \"dataMask\" ]\n",
        "    }],\n",
        "    output: { bands: 4 }  }\n",
        "}\n",
        "\"\"\""
      ],
      "metadata": {
        "id": "sNFIspe5dY6a"
      },
      "execution_count": null,
      "outputs": []
    },
    {
      "cell_type": "code",
      "source": [
        "evalscript_evap = \"\"\"\n",
        "//VERSION=3\n",
        "function setup() \n",
        "{\n",
        "    return {\n",
        "        input: [\"B11\",\"B09\",\"B02\", \"dataMask\"],\n",
        "        output: { bands: 4 }\n",
        "        };\n",
        " }\n",
        "        \n",
        "function evaluatePixel(sample) {  \n",
        "    return [2.5 * sample.B11,2.5 * sample.B09,2.5 * sample.B02, sample.dataMask ];\n",
        "    }\n",
        "  \"\"\""
      ],
      "metadata": {
        "id": "I-IbMQRzX3qc"
      },
      "execution_count": null,
      "outputs": []
    },
    {
      "cell_type": "markdown",
      "source": [
        "#sentinelhub-request"
      ],
      "metadata": {
        "nteract": {
          "transient": {
            "deleting": false
          }
        },
        "id": "uqzy-bYY2vNx"
      }
    },
    {
      "cell_type": "code",
      "source": [
        "from datetime import date\n",
        "List = []\n",
        "d = date(2002, 12, 1)\n",
        "f = date(2002, 12, 27)\n",
        "for j in range(2020,2023,1):\n",
        "  d=d.replace(year = j)\n",
        "  f=f.replace(year = j)\n",
        "  for i in range(1,12,2):\n",
        "    t0= str(d.replace(month = i))\n",
        "    t1 = str(d.replace(month = i+1))\n",
        "    List.append(t0)\n",
        "    List.append(t1)\n",
        "\n",
        "List.append('2023-01-01') \n",
        "print(List)"
      ],
      "metadata": {
        "colab": {
          "base_uri": "https://localhost:8080/"
        },
        "id": "8hSPe7kpLx4P",
        "outputId": "7bb93a95-13ce-40d1-b876-1a71055190e6"
      },
      "execution_count": null,
      "outputs": [
        {
          "output_type": "stream",
          "name": "stdout",
          "text": [
            "['2020-01-01', '2020-02-01', '2020-03-01', '2020-04-01', '2020-05-01', '2020-06-01', '2020-07-01', '2020-08-01', '2020-09-01', '2020-10-01', '2020-11-01', '2020-12-01', '2021-01-01', '2021-02-01', '2021-03-01', '2021-04-01', '2021-05-01', '2021-06-01', '2021-07-01', '2021-08-01', '2021-09-01', '2021-10-01', '2021-11-01', '2021-12-01', '2022-01-01', '2022-02-01', '2022-03-01', '2022-04-01', '2022-05-01', '2022-06-01', '2022-07-01', '2022-08-01', '2022-09-01', '2022-10-01', '2022-11-01', '2022-12-01', '2023-01-01']\n"
          ]
        }
      ]
    },
    {
      "cell_type": "code",
      "source": [
        "# sentinelhub request to know that you're using process api \n",
        "i=0\n",
        "j=1\n",
        "\n",
        "print( \"The output directory has been created \\n\")\n",
        "while j<len(List):\n",
        "  request_code = SentinelHubRequest(\n",
        "      data_folder=\"drive/MyDrive/dir_evap60\",\n",
        "      evalscript=evalscript_evap,\n",
        "      input_data=[\n",
        "          SentinelHubRequest.input_data(\n",
        "              data_collection=DataCollection.SENTINEL2_L2A,                      #L2A is way better than L1C because of atmospheric correction\n",
        "              time_interval=(List[i], List[j]),\n",
        "              mosaicking_order=MosaickingOrder.LEAST_CC,\n",
        "          )\n",
        "      ],\n",
        "      responses=[SentinelHubRequest.output_response(\"default\", MimeType.TIFF)],\n",
        "      bbox=salt_bbox,\n",
        "      size=salt_size,\n",
        "      config=config,\n",
        "  )\n",
        "\n",
        "  i+=1\n",
        "  j+=1\n",
        "\n",
        "  print( \"TIFF file with all needed bands was saved \\n\")\n",
        "  #Saving your img\n",
        "  result_imgs = request_code.get_data(save_data=True)"
      ],
      "outputs": [
        {
          "output_type": "stream",
          "name": "stdout",
          "text": [
            "The output directory has been created \n",
            "\n",
            "TIFF file with all needed bands was saved \n",
            "\n",
            "TIFF file with all needed bands was saved \n",
            "\n",
            "TIFF file with all needed bands was saved \n",
            "\n",
            "TIFF file with all needed bands was saved \n",
            "\n",
            "TIFF file with all needed bands was saved \n",
            "\n",
            "TIFF file with all needed bands was saved \n",
            "\n",
            "TIFF file with all needed bands was saved \n",
            "\n",
            "TIFF file with all needed bands was saved \n",
            "\n",
            "TIFF file with all needed bands was saved \n",
            "\n",
            "TIFF file with all needed bands was saved \n",
            "\n",
            "TIFF file with all needed bands was saved \n",
            "\n",
            "TIFF file with all needed bands was saved \n",
            "\n",
            "TIFF file with all needed bands was saved \n",
            "\n",
            "TIFF file with all needed bands was saved \n",
            "\n",
            "TIFF file with all needed bands was saved \n",
            "\n",
            "TIFF file with all needed bands was saved \n",
            "\n",
            "TIFF file with all needed bands was saved \n",
            "\n",
            "TIFF file with all needed bands was saved \n",
            "\n",
            "TIFF file with all needed bands was saved \n",
            "\n",
            "TIFF file with all needed bands was saved \n",
            "\n",
            "TIFF file with all needed bands was saved \n",
            "\n",
            "TIFF file with all needed bands was saved \n",
            "\n",
            "TIFF file with all needed bands was saved \n",
            "\n",
            "TIFF file with all needed bands was saved \n",
            "\n",
            "TIFF file with all needed bands was saved \n",
            "\n",
            "TIFF file with all needed bands was saved \n",
            "\n",
            "TIFF file with all needed bands was saved \n",
            "\n",
            "TIFF file with all needed bands was saved \n",
            "\n",
            "TIFF file with all needed bands was saved \n",
            "\n",
            "TIFF file with all needed bands was saved \n",
            "\n",
            "TIFF file with all needed bands was saved \n",
            "\n",
            "TIFF file with all needed bands was saved \n",
            "\n",
            "TIFF file with all needed bands was saved \n",
            "\n",
            "TIFF file with all needed bands was saved \n",
            "\n",
            "TIFF file with all needed bands was saved \n",
            "\n",
            "TIFF file with all needed bands was saved \n",
            "\n"
          ]
        }
      ],
      "execution_count": null,
      "metadata": {
        "jupyter": {
          "source_hidden": false,
          "outputs_hidden": false
        },
        "nteract": {
          "transient": {
            "deleting": false
          }
        },
        "gather": {
          "logged": 1664204438842
        },
        "id": "7QBsBoUd2vNx",
        "colab": {
          "base_uri": "https://localhost:8080/"
        },
        "outputId": "2a89d702-9be8-48dd-fd75-a8fefb984f05"
      }
    },
    {
      "cell_type": "code",
      "source": [
        "!zip -r drive/MyDrive/dir_evap60/dir_evap60.zip drive/MyDrive/dir_evap60"
      ],
      "metadata": {
        "id": "wPrA5Mx19BPg",
        "colab": {
          "base_uri": "https://localhost:8080/"
        },
        "outputId": "7ddc8aaa-9732-40bf-ba38-70cff63e52a7"
      },
      "execution_count": null,
      "outputs": [
        {
          "output_type": "stream",
          "name": "stdout",
          "text": [
            "  adding: drive/MyDrive/dir_evap60/ (stored 0%)\n",
            "  adding: drive/MyDrive/dir_evap60/2a5e19f9e1834ff228bae36ad9042dd8/ (stored 0%)\n",
            "  adding: drive/MyDrive/dir_evap60/2a5e19f9e1834ff228bae36ad9042dd8/response.tiff (deflated 0%)\n",
            "  adding: drive/MyDrive/dir_evap60/2a5e19f9e1834ff228bae36ad9042dd8/request.json (deflated 64%)\n",
            "  adding: drive/MyDrive/dir_evap60/6af5390bf601b7493a685791c17e6519/ (stored 0%)\n",
            "  adding: drive/MyDrive/dir_evap60/6af5390bf601b7493a685791c17e6519/response.tiff (deflated 0%)\n",
            "  adding: drive/MyDrive/dir_evap60/6af5390bf601b7493a685791c17e6519/request.json (deflated 64%)\n",
            "  adding: drive/MyDrive/dir_evap60/6143a0173b4edc5f66ab061d3d7d5f35/ (stored 0%)\n",
            "  adding: drive/MyDrive/dir_evap60/6143a0173b4edc5f66ab061d3d7d5f35/response.tiff (deflated 0%)\n",
            "  adding: drive/MyDrive/dir_evap60/6143a0173b4edc5f66ab061d3d7d5f35/request.json (deflated 64%)\n",
            "  adding: drive/MyDrive/dir_evap60/fa7f61b33e950ad92dd55c9dfa7b7395/ (stored 0%)\n",
            "  adding: drive/MyDrive/dir_evap60/fa7f61b33e950ad92dd55c9dfa7b7395/response.tiff (deflated 0%)\n",
            "  adding: drive/MyDrive/dir_evap60/fa7f61b33e950ad92dd55c9dfa7b7395/request.json (deflated 64%)\n",
            "  adding: drive/MyDrive/dir_evap60/7d9af72cd2fec4a378f5badb1c119e87/ (stored 0%)\n",
            "  adding: drive/MyDrive/dir_evap60/7d9af72cd2fec4a378f5badb1c119e87/response.tiff (deflated 0%)\n",
            "  adding: drive/MyDrive/dir_evap60/7d9af72cd2fec4a378f5badb1c119e87/request.json (deflated 64%)\n",
            "  adding: drive/MyDrive/dir_evap60/f1c24b2da72248bd305a4297186e236b/ (stored 0%)\n",
            "  adding: drive/MyDrive/dir_evap60/f1c24b2da72248bd305a4297186e236b/response.tiff (deflated 0%)\n",
            "  adding: drive/MyDrive/dir_evap60/f1c24b2da72248bd305a4297186e236b/request.json (deflated 64%)\n",
            "  adding: drive/MyDrive/dir_evap60/277378182994830770409650579f92d2/ (stored 0%)\n",
            "  adding: drive/MyDrive/dir_evap60/277378182994830770409650579f92d2/response.tiff (deflated 0%)\n",
            "  adding: drive/MyDrive/dir_evap60/277378182994830770409650579f92d2/request.json (deflated 64%)\n",
            "  adding: drive/MyDrive/dir_evap60/03a6c17b57858c390dd039bcf49d2c14/ (stored 0%)\n",
            "  adding: drive/MyDrive/dir_evap60/03a6c17b57858c390dd039bcf49d2c14/response.tiff (deflated 0%)\n",
            "  adding: drive/MyDrive/dir_evap60/03a6c17b57858c390dd039bcf49d2c14/request.json (deflated 64%)\n",
            "  adding: drive/MyDrive/dir_evap60/d1a8f6091e76524e080eafcb09c66c4b/ (stored 0%)\n",
            "  adding: drive/MyDrive/dir_evap60/d1a8f6091e76524e080eafcb09c66c4b/response.tiff (deflated 0%)\n",
            "  adding: drive/MyDrive/dir_evap60/d1a8f6091e76524e080eafcb09c66c4b/request.json (deflated 64%)\n",
            "  adding: drive/MyDrive/dir_evap60/786404f55cf7fba1f188a36910097be4/ (stored 0%)\n",
            "  adding: drive/MyDrive/dir_evap60/786404f55cf7fba1f188a36910097be4/response.tiff (deflated 0%)\n",
            "  adding: drive/MyDrive/dir_evap60/786404f55cf7fba1f188a36910097be4/request.json (deflated 64%)\n",
            "  adding: drive/MyDrive/dir_evap60/5575815eba76d25c60fef794ed818fd2/ (stored 0%)\n",
            "  adding: drive/MyDrive/dir_evap60/5575815eba76d25c60fef794ed818fd2/response.tiff (deflated 0%)\n",
            "  adding: drive/MyDrive/dir_evap60/5575815eba76d25c60fef794ed818fd2/request.json (deflated 64%)\n",
            "  adding: drive/MyDrive/dir_evap60/22cf0936a13ab935952be7ff5ff661e9/ (stored 0%)\n",
            "  adding: drive/MyDrive/dir_evap60/22cf0936a13ab935952be7ff5ff661e9/response.tiff (deflated 0%)\n",
            "  adding: drive/MyDrive/dir_evap60/22cf0936a13ab935952be7ff5ff661e9/request.json (deflated 64%)\n",
            "  adding: drive/MyDrive/dir_evap60/6c8bcb5783737b05cc77d6d5f33533cd/ (stored 0%)\n",
            "  adding: drive/MyDrive/dir_evap60/6c8bcb5783737b05cc77d6d5f33533cd/response.tiff (deflated 0%)\n",
            "  adding: drive/MyDrive/dir_evap60/6c8bcb5783737b05cc77d6d5f33533cd/request.json (deflated 64%)\n",
            "  adding: drive/MyDrive/dir_evap60/f88d9c05e6c8e9b48d233c8e6044a0c4/ (stored 0%)\n",
            "  adding: drive/MyDrive/dir_evap60/f88d9c05e6c8e9b48d233c8e6044a0c4/response.tiff (deflated 0%)\n",
            "  adding: drive/MyDrive/dir_evap60/f88d9c05e6c8e9b48d233c8e6044a0c4/request.json (deflated 64%)\n",
            "  adding: drive/MyDrive/dir_evap60/11dd7b1ebe1593bc0002f493ef4309ab/ (stored 0%)\n",
            "  adding: drive/MyDrive/dir_evap60/11dd7b1ebe1593bc0002f493ef4309ab/response.tiff (deflated 0%)\n",
            "  adding: drive/MyDrive/dir_evap60/11dd7b1ebe1593bc0002f493ef4309ab/request.json (deflated 64%)\n",
            "  adding: drive/MyDrive/dir_evap60/e08b8a8588f66b2e6f65e064ec0c7218/ (stored 0%)\n",
            "  adding: drive/MyDrive/dir_evap60/e08b8a8588f66b2e6f65e064ec0c7218/response.tiff (deflated 0%)\n",
            "  adding: drive/MyDrive/dir_evap60/e08b8a8588f66b2e6f65e064ec0c7218/request.json (deflated 64%)\n",
            "  adding: drive/MyDrive/dir_evap60/03d3a478b96c04dd2a0e9359b69a7251/ (stored 0%)\n",
            "  adding: drive/MyDrive/dir_evap60/03d3a478b96c04dd2a0e9359b69a7251/response.tiff (deflated 0%)\n",
            "  adding: drive/MyDrive/dir_evap60/03d3a478b96c04dd2a0e9359b69a7251/request.json (deflated 64%)\n",
            "  adding: drive/MyDrive/dir_evap60/6a64e1b52ce40ac08dfdd4798cfdd9c5/ (stored 0%)\n",
            "  adding: drive/MyDrive/dir_evap60/6a64e1b52ce40ac08dfdd4798cfdd9c5/response.tiff (deflated 0%)\n",
            "  adding: drive/MyDrive/dir_evap60/6a64e1b52ce40ac08dfdd4798cfdd9c5/request.json (deflated 64%)\n",
            "  adding: drive/MyDrive/dir_evap60/cba60e26d0aaf747860b4fdd275c63ac/ (stored 0%)\n",
            "  adding: drive/MyDrive/dir_evap60/cba60e26d0aaf747860b4fdd275c63ac/response.tiff (deflated 0%)\n",
            "  adding: drive/MyDrive/dir_evap60/cba60e26d0aaf747860b4fdd275c63ac/request.json (deflated 64%)\n",
            "  adding: drive/MyDrive/dir_evap60/ce9b8d15c96db75d2b2e66c48eaaae7f/ (stored 0%)\n",
            "  adding: drive/MyDrive/dir_evap60/ce9b8d15c96db75d2b2e66c48eaaae7f/response.tiff (deflated 0%)\n",
            "  adding: drive/MyDrive/dir_evap60/ce9b8d15c96db75d2b2e66c48eaaae7f/request.json (deflated 64%)\n",
            "  adding: drive/MyDrive/dir_evap60/69cd6f1300ba1baac5ee7cb8b13f5c5e/ (stored 0%)\n",
            "  adding: drive/MyDrive/dir_evap60/69cd6f1300ba1baac5ee7cb8b13f5c5e/response.tiff (deflated 0%)\n",
            "  adding: drive/MyDrive/dir_evap60/69cd6f1300ba1baac5ee7cb8b13f5c5e/request.json (deflated 64%)\n",
            "  adding: drive/MyDrive/dir_evap60/10b763829efcb59f9c3b4d772cc6dde6/ (stored 0%)\n",
            "  adding: drive/MyDrive/dir_evap60/10b763829efcb59f9c3b4d772cc6dde6/response.tiff (deflated 0%)\n",
            "  adding: drive/MyDrive/dir_evap60/10b763829efcb59f9c3b4d772cc6dde6/request.json (deflated 64%)\n",
            "  adding: drive/MyDrive/dir_evap60/0bf4740be368ed856f5bb6910ce581be/ (stored 0%)\n",
            "  adding: drive/MyDrive/dir_evap60/0bf4740be368ed856f5bb6910ce581be/response.tiff (deflated 0%)\n",
            "  adding: drive/MyDrive/dir_evap60/0bf4740be368ed856f5bb6910ce581be/request.json (deflated 64%)\n",
            "  adding: drive/MyDrive/dir_evap60/aa89ff337dc8005abcbf7d90f707debe/ (stored 0%)\n",
            "  adding: drive/MyDrive/dir_evap60/aa89ff337dc8005abcbf7d90f707debe/response.tiff (deflated 0%)\n",
            "  adding: drive/MyDrive/dir_evap60/aa89ff337dc8005abcbf7d90f707debe/request.json (deflated 64%)\n",
            "  adding: drive/MyDrive/dir_evap60/4df8bd8d39c019c85952f6f9063423d2/ (stored 0%)\n",
            "  adding: drive/MyDrive/dir_evap60/4df8bd8d39c019c85952f6f9063423d2/response.tiff (deflated 0%)\n",
            "  adding: drive/MyDrive/dir_evap60/4df8bd8d39c019c85952f6f9063423d2/request.json (deflated 64%)\n",
            "  adding: drive/MyDrive/dir_evap60/5d584485fb91d9e2b0407ea4265be2e2/ (stored 0%)\n",
            "  adding: drive/MyDrive/dir_evap60/5d584485fb91d9e2b0407ea4265be2e2/response.tiff (deflated 0%)\n",
            "  adding: drive/MyDrive/dir_evap60/5d584485fb91d9e2b0407ea4265be2e2/request.json (deflated 64%)\n",
            "  adding: drive/MyDrive/dir_evap60/3c862a20cfa254719e160d67d5c13d8c/ (stored 0%)\n",
            "  adding: drive/MyDrive/dir_evap60/3c862a20cfa254719e160d67d5c13d8c/response.tiff (deflated 0%)\n",
            "  adding: drive/MyDrive/dir_evap60/3c862a20cfa254719e160d67d5c13d8c/request.json (deflated 64%)\n",
            "  adding: drive/MyDrive/dir_evap60/425f1fa288a8bfe0dd054c1316e7c103/ (stored 0%)\n",
            "  adding: drive/MyDrive/dir_evap60/425f1fa288a8bfe0dd054c1316e7c103/response.tiff (deflated 0%)\n",
            "  adding: drive/MyDrive/dir_evap60/425f1fa288a8bfe0dd054c1316e7c103/request.json (deflated 64%)\n",
            "  adding: drive/MyDrive/dir_evap60/780f66a5d654c1c1ba68fb2dafd030c7/ (stored 0%)\n",
            "  adding: drive/MyDrive/dir_evap60/780f66a5d654c1c1ba68fb2dafd030c7/response.tiff (deflated 0%)\n",
            "  adding: drive/MyDrive/dir_evap60/780f66a5d654c1c1ba68fb2dafd030c7/request.json (deflated 64%)\n",
            "  adding: drive/MyDrive/dir_evap60/c742b40b0a59ad6f193269f42800ffcf/ (stored 0%)\n",
            "  adding: drive/MyDrive/dir_evap60/c742b40b0a59ad6f193269f42800ffcf/response.tiff (deflated 0%)\n",
            "  adding: drive/MyDrive/dir_evap60/c742b40b0a59ad6f193269f42800ffcf/request.json (deflated 64%)\n",
            "  adding: drive/MyDrive/dir_evap60/56124f8a8cb30f4cbb9e514fa12e83dc/ (stored 0%)\n",
            "  adding: drive/MyDrive/dir_evap60/56124f8a8cb30f4cbb9e514fa12e83dc/response.tiff (deflated 0%)\n",
            "  adding: drive/MyDrive/dir_evap60/56124f8a8cb30f4cbb9e514fa12e83dc/request.json (deflated 64%)\n",
            "  adding: drive/MyDrive/dir_evap60/31d042b373cb4969211076599a031fae/ (stored 0%)\n",
            "  adding: drive/MyDrive/dir_evap60/31d042b373cb4969211076599a031fae/response.tiff (deflated 0%)\n",
            "  adding: drive/MyDrive/dir_evap60/31d042b373cb4969211076599a031fae/request.json (deflated 64%)\n",
            "  adding: drive/MyDrive/dir_evap60/3af14729eaa0333b4f15681e5df2967f/ (stored 0%)\n",
            "  adding: drive/MyDrive/dir_evap60/3af14729eaa0333b4f15681e5df2967f/response.tiff (deflated 0%)\n",
            "  adding: drive/MyDrive/dir_evap60/3af14729eaa0333b4f15681e5df2967f/request.json (deflated 64%)\n",
            "  adding: drive/MyDrive/dir_evap60/942ba1301636cb4e14a38de813546cff/ (stored 0%)\n",
            "  adding: drive/MyDrive/dir_evap60/942ba1301636cb4e14a38de813546cff/response.tiff (deflated 0%)\n",
            "  adding: drive/MyDrive/dir_evap60/942ba1301636cb4e14a38de813546cff/request.json (deflated 64%)\n",
            "  adding: drive/MyDrive/dir_evap60/1237e6ebe3e6aafc00fc935ea0c085e8/ (stored 0%)\n",
            "  adding: drive/MyDrive/dir_evap60/1237e6ebe3e6aafc00fc935ea0c085e8/response.tiff (deflated 0%)\n",
            "  adding: drive/MyDrive/dir_evap60/1237e6ebe3e6aafc00fc935ea0c085e8/request.json (deflated 64%)\n",
            "  adding: drive/MyDrive/dir_evap60/83339d999f5538e6b21239b6b91c1f64/ (stored 0%)\n",
            "  adding: drive/MyDrive/dir_evap60/83339d999f5538e6b21239b6b91c1f64/response.tiff (deflated 0%)\n",
            "  adding: drive/MyDrive/dir_evap60/83339d999f5538e6b21239b6b91c1f64/request.json (deflated 64%)\n"
          ]
        }
      ]
    },
    {
      "cell_type": "code",
      "source": [],
      "metadata": {
        "id": "y60rioUFdkvS"
      },
      "execution_count": null,
      "outputs": []
    },
    {
      "cell_type": "code",
      "source": [
        "evalscript = \"\"\"\n",
        "//VERSION=3\n",
        "\n",
        "function setup() {\n",
        "  return {\n",
        "    input: [\"B02\", \"B03\", \"B04\"],\n",
        "    output: { bands: 3 }\n",
        "  };\n",
        "}\n",
        "\n",
        "function evaluatePixel(sample) {\n",
        "  return [2.5 * sample.B04, 2.5 * sample.B03, 2.5 * sample.B02];\n",
        "}\n",
        "\"\"\"\n",
        "request = SentinelHubRequest(\n",
        "    data_folder=\"dir_barren_soil\",\n",
        "    evalscript=evalscript,\n",
        "    input_data=[\n",
        "        SentinelHubRequest.input_data(\n",
        "            data_collection=DataCollection.MODIS,          \n",
        "            time_interval=('2022-12-01', '2023-01-01'),          \n",
        "        ),\n",
        "    ],\n",
        "    responses=[\n",
        "        SentinelHubRequest.output_response('default', MimeType.JPG),\n",
        "    ],\n",
        "    bbox=salt_bbox,\n",
        "    size=salt_size,\n",
        "    config=config,\n",
        ")\n",
        "result_imgs = request.get_data(save_data=True)"
      ],
      "metadata": {
        "colab": {
          "base_uri": "https://localhost:8080/",
          "height": 346
        },
        "id": "njRGcMD6hPXu",
        "outputId": "a2966d06-fe6f-4d80-e0fd-847c78bc13da"
      },
      "execution_count": null,
      "outputs": [
        {
          "output_type": "error",
          "ename": "UnidentifiedImageError",
          "evalue": "ignored",
          "traceback": [
            "\u001b[0;31m---------------------------------------------------------------------------\u001b[0m",
            "\u001b[0;31mUnidentifiedImageError\u001b[0m                    Traceback (most recent call last)",
            "\u001b[0;32m<ipython-input-15-05babfadef66>\u001b[0m in \u001b[0;36m<module>\u001b[0;34m\u001b[0m\n\u001b[1;32m     29\u001b[0m     \u001b[0mconfig\u001b[0m\u001b[0;34m=\u001b[0m\u001b[0mconfig\u001b[0m\u001b[0;34m,\u001b[0m\u001b[0;34m\u001b[0m\u001b[0;34m\u001b[0m\u001b[0m\n\u001b[1;32m     30\u001b[0m )\n\u001b[0;32m---> 31\u001b[0;31m \u001b[0mresult_imgs\u001b[0m \u001b[0;34m=\u001b[0m \u001b[0mrequest\u001b[0m\u001b[0;34m.\u001b[0m\u001b[0mget_data\u001b[0m\u001b[0;34m(\u001b[0m\u001b[0msave_data\u001b[0m\u001b[0;34m=\u001b[0m\u001b[0;32mTrue\u001b[0m\u001b[0;34m)\u001b[0m\u001b[0;34m\u001b[0m\u001b[0;34m\u001b[0m\u001b[0m\n\u001b[0m",
            "\u001b[0;32m/usr/local/lib/python3.8/dist-packages/sentinelhub/base.py\u001b[0m in \u001b[0;36mget_data\u001b[0;34m(self, save_data, redownload, data_filter, max_threads, decode_data, raise_download_errors, show_progress)\u001b[0m\n\u001b[1;32m    107\u001b[0m         \"\"\"\n\u001b[1;32m    108\u001b[0m         \u001b[0mself\u001b[0m\u001b[0;34m.\u001b[0m\u001b[0m_preprocess_request\u001b[0m\u001b[0;34m(\u001b[0m\u001b[0msave_data\u001b[0m\u001b[0;34m,\u001b[0m \u001b[0;32mTrue\u001b[0m\u001b[0;34m)\u001b[0m\u001b[0;34m\u001b[0m\u001b[0;34m\u001b[0m\u001b[0m\n\u001b[0;32m--> 109\u001b[0;31m         return self._execute_data_download(\n\u001b[0m\u001b[1;32m    110\u001b[0m             \u001b[0mdata_filter\u001b[0m\u001b[0;34m,\u001b[0m\u001b[0;34m\u001b[0m\u001b[0;34m\u001b[0m\u001b[0m\n\u001b[1;32m    111\u001b[0m             \u001b[0mredownload\u001b[0m\u001b[0;34m,\u001b[0m\u001b[0;34m\u001b[0m\u001b[0;34m\u001b[0m\u001b[0m\n",
            "\u001b[0;32m/usr/local/lib/python3.8/dist-packages/sentinelhub/base.py\u001b[0m in \u001b[0;36m_execute_data_download\u001b[0;34m(self, data_filter, redownload, max_threads, raise_download_errors, decode_data, show_progress)\u001b[0m\n\u001b[1;32m    181\u001b[0m             \u001b[0mredownload\u001b[0m\u001b[0;34m=\u001b[0m\u001b[0mredownload\u001b[0m\u001b[0;34m,\u001b[0m \u001b[0mraise_download_errors\u001b[0m\u001b[0;34m=\u001b[0m\u001b[0mraise_download_errors\u001b[0m\u001b[0;34m,\u001b[0m \u001b[0mconfig\u001b[0m\u001b[0;34m=\u001b[0m\u001b[0mself\u001b[0m\u001b[0;34m.\u001b[0m\u001b[0mconfig\u001b[0m\u001b[0;34m\u001b[0m\u001b[0;34m\u001b[0m\u001b[0m\n\u001b[1;32m    182\u001b[0m         )\n\u001b[0;32m--> 183\u001b[0;31m         data_list = client.download(\n\u001b[0m\u001b[1;32m    184\u001b[0m             \u001b[0mfiltered_download_list\u001b[0m\u001b[0;34m,\u001b[0m \u001b[0mmax_threads\u001b[0m\u001b[0;34m=\u001b[0m\u001b[0mmax_threads\u001b[0m\u001b[0;34m,\u001b[0m \u001b[0mdecode_data\u001b[0m\u001b[0;34m=\u001b[0m\u001b[0mdecode_data\u001b[0m\u001b[0;34m,\u001b[0m \u001b[0mshow_progress\u001b[0m\u001b[0;34m=\u001b[0m\u001b[0mshow_progress\u001b[0m\u001b[0;34m\u001b[0m\u001b[0;34m\u001b[0m\u001b[0m\n\u001b[1;32m    185\u001b[0m         )\n",
            "\u001b[0;32m/usr/local/lib/python3.8/dist-packages/sentinelhub/download/sentinelhub_client.py\u001b[0m in \u001b[0;36mdownload\u001b[0;34m(self, *args, **kwargs)\u001b[0m\n\u001b[1;32m     60\u001b[0m         \u001b[0mself\u001b[0m\u001b[0;34m.\u001b[0m\u001b[0mlock\u001b[0m \u001b[0;34m=\u001b[0m \u001b[0mLock\u001b[0m\u001b[0;34m(\u001b[0m\u001b[0;34m)\u001b[0m\u001b[0;34m\u001b[0m\u001b[0;34m\u001b[0m\u001b[0m\n\u001b[1;32m     61\u001b[0m         \u001b[0;32mtry\u001b[0m\u001b[0;34m:\u001b[0m\u001b[0;34m\u001b[0m\u001b[0;34m\u001b[0m\u001b[0m\n\u001b[0;32m---> 62\u001b[0;31m             \u001b[0;32mreturn\u001b[0m \u001b[0msuper\u001b[0m\u001b[0;34m(\u001b[0m\u001b[0;34m)\u001b[0m\u001b[0;34m.\u001b[0m\u001b[0mdownload\u001b[0m\u001b[0;34m(\u001b[0m\u001b[0;34m*\u001b[0m\u001b[0margs\u001b[0m\u001b[0;34m,\u001b[0m \u001b[0;34m**\u001b[0m\u001b[0mkwargs\u001b[0m\u001b[0;34m)\u001b[0m\u001b[0;34m\u001b[0m\u001b[0;34m\u001b[0m\u001b[0m\n\u001b[0m\u001b[1;32m     63\u001b[0m         \u001b[0;32mfinally\u001b[0m\u001b[0;34m:\u001b[0m\u001b[0;34m\u001b[0m\u001b[0;34m\u001b[0m\u001b[0m\n\u001b[1;32m     64\u001b[0m             \u001b[0mself\u001b[0m\u001b[0;34m.\u001b[0m\u001b[0mlock\u001b[0m \u001b[0;34m=\u001b[0m \u001b[0;32mNone\u001b[0m\u001b[0;34m\u001b[0m\u001b[0;34m\u001b[0m\u001b[0m\n",
            "\u001b[0;32m/usr/local/lib/python3.8/dist-packages/sentinelhub/download/client.py\u001b[0m in \u001b[0;36mdownload\u001b[0;34m(self, download_requests, max_threads, decode_data, show_progress)\u001b[0m\n\u001b[1;32m    111\u001b[0m             \u001b[0;32melse\u001b[0m\u001b[0;34m:\u001b[0m\u001b[0;34m\u001b[0m\u001b[0;34m\u001b[0m\u001b[0m\n\u001b[1;32m    112\u001b[0m                 \u001b[0;32mfor\u001b[0m \u001b[0mfuture\u001b[0m \u001b[0;32min\u001b[0m \u001b[0mas_completed\u001b[0m\u001b[0;34m(\u001b[0m\u001b[0mdownload_list\u001b[0m\u001b[0;34m)\u001b[0m\u001b[0;34m:\u001b[0m\u001b[0;34m\u001b[0m\u001b[0;34m\u001b[0m\u001b[0m\n\u001b[0;32m--> 113\u001b[0;31m                     \u001b[0mdata_list\u001b[0m\u001b[0;34m[\u001b[0m\u001b[0mfuture_order\u001b[0m\u001b[0;34m[\u001b[0m\u001b[0mfuture\u001b[0m\u001b[0;34m]\u001b[0m\u001b[0;34m]\u001b[0m \u001b[0;34m=\u001b[0m \u001b[0mself\u001b[0m\u001b[0;34m.\u001b[0m\u001b[0m_process_download_future\u001b[0m\u001b[0;34m(\u001b[0m\u001b[0mfuture\u001b[0m\u001b[0;34m)\u001b[0m\u001b[0;34m\u001b[0m\u001b[0;34m\u001b[0m\u001b[0m\n\u001b[0m\u001b[1;32m    114\u001b[0m \u001b[0;34m\u001b[0m\u001b[0m\n\u001b[1;32m    115\u001b[0m         \u001b[0;32mif\u001b[0m \u001b[0misinstance\u001b[0m\u001b[0;34m(\u001b[0m\u001b[0mdownload_requests\u001b[0m\u001b[0;34m,\u001b[0m \u001b[0mDownloadRequest\u001b[0m\u001b[0;34m)\u001b[0m\u001b[0;34m:\u001b[0m\u001b[0;34m\u001b[0m\u001b[0;34m\u001b[0m\u001b[0m\n",
            "\u001b[0;32m/usr/local/lib/python3.8/dist-packages/sentinelhub/download/client.py\u001b[0m in \u001b[0;36m_process_download_future\u001b[0;34m(self, future)\u001b[0m\n\u001b[1;32m    120\u001b[0m         \u001b[0;34m\"\"\"Unpacks the future and correctly handles exceptions\"\"\"\u001b[0m\u001b[0;34m\u001b[0m\u001b[0;34m\u001b[0m\u001b[0m\n\u001b[1;32m    121\u001b[0m         \u001b[0;32mtry\u001b[0m\u001b[0;34m:\u001b[0m\u001b[0;34m\u001b[0m\u001b[0;34m\u001b[0m\u001b[0m\n\u001b[0;32m--> 122\u001b[0;31m             \u001b[0;32mreturn\u001b[0m \u001b[0mfuture\u001b[0m\u001b[0;34m.\u001b[0m\u001b[0mresult\u001b[0m\u001b[0;34m(\u001b[0m\u001b[0;34m)\u001b[0m\u001b[0;34m\u001b[0m\u001b[0;34m\u001b[0m\u001b[0m\n\u001b[0m\u001b[1;32m    123\u001b[0m         \u001b[0;32mexcept\u001b[0m \u001b[0mDownloadFailedException\u001b[0m \u001b[0;32mas\u001b[0m \u001b[0mdownload_exception\u001b[0m\u001b[0;34m:\u001b[0m\u001b[0;34m\u001b[0m\u001b[0;34m\u001b[0m\u001b[0m\n\u001b[1;32m    124\u001b[0m             \u001b[0;32mif\u001b[0m \u001b[0mself\u001b[0m\u001b[0;34m.\u001b[0m\u001b[0mraise_download_errors\u001b[0m\u001b[0;34m:\u001b[0m\u001b[0;34m\u001b[0m\u001b[0;34m\u001b[0m\u001b[0m\n",
            "\u001b[0;32m/usr/lib/python3.8/concurrent/futures/_base.py\u001b[0m in \u001b[0;36mresult\u001b[0;34m(self, timeout)\u001b[0m\n\u001b[1;32m    435\u001b[0m                     \u001b[0;32mraise\u001b[0m \u001b[0mCancelledError\u001b[0m\u001b[0;34m(\u001b[0m\u001b[0;34m)\u001b[0m\u001b[0;34m\u001b[0m\u001b[0;34m\u001b[0m\u001b[0m\n\u001b[1;32m    436\u001b[0m                 \u001b[0;32melif\u001b[0m \u001b[0mself\u001b[0m\u001b[0;34m.\u001b[0m\u001b[0m_state\u001b[0m \u001b[0;34m==\u001b[0m \u001b[0mFINISHED\u001b[0m\u001b[0;34m:\u001b[0m\u001b[0;34m\u001b[0m\u001b[0;34m\u001b[0m\u001b[0m\n\u001b[0;32m--> 437\u001b[0;31m                     \u001b[0;32mreturn\u001b[0m \u001b[0mself\u001b[0m\u001b[0;34m.\u001b[0m\u001b[0m__get_result\u001b[0m\u001b[0;34m(\u001b[0m\u001b[0;34m)\u001b[0m\u001b[0;34m\u001b[0m\u001b[0;34m\u001b[0m\u001b[0m\n\u001b[0m\u001b[1;32m    438\u001b[0m \u001b[0;34m\u001b[0m\u001b[0m\n\u001b[1;32m    439\u001b[0m                 \u001b[0mself\u001b[0m\u001b[0;34m.\u001b[0m\u001b[0m_condition\u001b[0m\u001b[0;34m.\u001b[0m\u001b[0mwait\u001b[0m\u001b[0;34m(\u001b[0m\u001b[0mtimeout\u001b[0m\u001b[0;34m)\u001b[0m\u001b[0;34m\u001b[0m\u001b[0;34m\u001b[0m\u001b[0m\n",
            "\u001b[0;32m/usr/lib/python3.8/concurrent/futures/_base.py\u001b[0m in \u001b[0;36m__get_result\u001b[0;34m(self)\u001b[0m\n\u001b[1;32m    387\u001b[0m         \u001b[0;32mif\u001b[0m \u001b[0mself\u001b[0m\u001b[0;34m.\u001b[0m\u001b[0m_exception\u001b[0m\u001b[0;34m:\u001b[0m\u001b[0;34m\u001b[0m\u001b[0;34m\u001b[0m\u001b[0m\n\u001b[1;32m    388\u001b[0m             \u001b[0;32mtry\u001b[0m\u001b[0;34m:\u001b[0m\u001b[0;34m\u001b[0m\u001b[0;34m\u001b[0m\u001b[0m\n\u001b[0;32m--> 389\u001b[0;31m                 \u001b[0;32mraise\u001b[0m \u001b[0mself\u001b[0m\u001b[0;34m.\u001b[0m\u001b[0m_exception\u001b[0m\u001b[0;34m\u001b[0m\u001b[0;34m\u001b[0m\u001b[0m\n\u001b[0m\u001b[1;32m    390\u001b[0m             \u001b[0;32mfinally\u001b[0m\u001b[0;34m:\u001b[0m\u001b[0;34m\u001b[0m\u001b[0;34m\u001b[0m\u001b[0m\n\u001b[1;32m    391\u001b[0m                 \u001b[0;31m# Break a reference cycle with the exception in self._exception\u001b[0m\u001b[0;34m\u001b[0m\u001b[0;34m\u001b[0m\u001b[0;34m\u001b[0m\u001b[0m\n",
            "\u001b[0;32m/usr/lib/python3.8/concurrent/futures/thread.py\u001b[0m in \u001b[0;36mrun\u001b[0;34m(self)\u001b[0m\n\u001b[1;32m     55\u001b[0m \u001b[0;34m\u001b[0m\u001b[0m\n\u001b[1;32m     56\u001b[0m         \u001b[0;32mtry\u001b[0m\u001b[0;34m:\u001b[0m\u001b[0;34m\u001b[0m\u001b[0;34m\u001b[0m\u001b[0m\n\u001b[0;32m---> 57\u001b[0;31m             \u001b[0mresult\u001b[0m \u001b[0;34m=\u001b[0m \u001b[0mself\u001b[0m\u001b[0;34m.\u001b[0m\u001b[0mfn\u001b[0m\u001b[0;34m(\u001b[0m\u001b[0;34m*\u001b[0m\u001b[0mself\u001b[0m\u001b[0;34m.\u001b[0m\u001b[0margs\u001b[0m\u001b[0;34m,\u001b[0m \u001b[0;34m**\u001b[0m\u001b[0mself\u001b[0m\u001b[0;34m.\u001b[0m\u001b[0mkwargs\u001b[0m\u001b[0;34m)\u001b[0m\u001b[0;34m\u001b[0m\u001b[0;34m\u001b[0m\u001b[0m\n\u001b[0m\u001b[1;32m     58\u001b[0m         \u001b[0;32mexcept\u001b[0m \u001b[0mBaseException\u001b[0m \u001b[0;32mas\u001b[0m \u001b[0mexc\u001b[0m\u001b[0;34m:\u001b[0m\u001b[0;34m\u001b[0m\u001b[0;34m\u001b[0m\u001b[0m\n\u001b[1;32m     59\u001b[0m             \u001b[0mself\u001b[0m\u001b[0;34m.\u001b[0m\u001b[0mfuture\u001b[0m\u001b[0;34m.\u001b[0m\u001b[0mset_exception\u001b[0m\u001b[0;34m(\u001b[0m\u001b[0mexc\u001b[0m\u001b[0;34m)\u001b[0m\u001b[0;34m\u001b[0m\u001b[0;34m\u001b[0m\u001b[0m\n",
            "\u001b[0;32m/usr/local/lib/python3.8/dist-packages/sentinelhub/download/client.py\u001b[0m in \u001b[0;36m_single_download_decoded\u001b[0;34m(self, request)\u001b[0m\n\u001b[1;32m    132\u001b[0m         \u001b[0;34m\"\"\"Downloads a response and decodes it into data. By decoding a single response\"\"\"\u001b[0m\u001b[0;34m\u001b[0m\u001b[0;34m\u001b[0m\u001b[0m\n\u001b[1;32m    133\u001b[0m         \u001b[0mresponse\u001b[0m \u001b[0;34m=\u001b[0m \u001b[0mself\u001b[0m\u001b[0;34m.\u001b[0m\u001b[0m_single_download\u001b[0m\u001b[0;34m(\u001b[0m\u001b[0mrequest\u001b[0m\u001b[0;34m)\u001b[0m\u001b[0;34m\u001b[0m\u001b[0;34m\u001b[0m\u001b[0m\n\u001b[0;32m--> 134\u001b[0;31m         \u001b[0;32mreturn\u001b[0m \u001b[0;32mNone\u001b[0m \u001b[0;32mif\u001b[0m \u001b[0mresponse\u001b[0m \u001b[0;32mis\u001b[0m \u001b[0;32mNone\u001b[0m \u001b[0;32melse\u001b[0m \u001b[0mresponse\u001b[0m\u001b[0;34m.\u001b[0m\u001b[0mdecode\u001b[0m\u001b[0;34m(\u001b[0m\u001b[0;34m)\u001b[0m\u001b[0;34m\u001b[0m\u001b[0;34m\u001b[0m\u001b[0m\n\u001b[0m\u001b[1;32m    135\u001b[0m \u001b[0;34m\u001b[0m\u001b[0m\n\u001b[1;32m    136\u001b[0m     \u001b[0;32mdef\u001b[0m \u001b[0m_single_download\u001b[0m\u001b[0;34m(\u001b[0m\u001b[0mself\u001b[0m\u001b[0;34m,\u001b[0m \u001b[0mrequest\u001b[0m\u001b[0;34m:\u001b[0m \u001b[0mDownloadRequest\u001b[0m\u001b[0;34m)\u001b[0m \u001b[0;34m->\u001b[0m \u001b[0mOptional\u001b[0m\u001b[0;34m[\u001b[0m\u001b[0mDownloadResponse\u001b[0m\u001b[0;34m]\u001b[0m\u001b[0;34m:\u001b[0m\u001b[0;34m\u001b[0m\u001b[0;34m\u001b[0m\u001b[0m\n",
            "\u001b[0;32m/usr/local/lib/python3.8/dist-packages/sentinelhub/download/models.py\u001b[0m in \u001b[0;36mdecode\u001b[0;34m(self)\u001b[0m\n\u001b[1;32m    244\u001b[0m     \u001b[0;32mdef\u001b[0m \u001b[0mdecode\u001b[0m\u001b[0;34m(\u001b[0m\u001b[0mself\u001b[0m\u001b[0;34m)\u001b[0m \u001b[0;34m->\u001b[0m \u001b[0mAny\u001b[0m\u001b[0;34m:\u001b[0m\u001b[0;34m\u001b[0m\u001b[0;34m\u001b[0m\u001b[0m\n\u001b[1;32m    245\u001b[0m         \u001b[0;34m\"\"\"Decodes binary data into a Python object.\"\"\"\u001b[0m\u001b[0;34m\u001b[0m\u001b[0;34m\u001b[0m\u001b[0m\n\u001b[0;32m--> 246\u001b[0;31m         \u001b[0;32mreturn\u001b[0m \u001b[0mdecode_data\u001b[0m\u001b[0;34m(\u001b[0m\u001b[0mself\u001b[0m\u001b[0;34m.\u001b[0m\u001b[0mcontent\u001b[0m\u001b[0;34m,\u001b[0m \u001b[0mdata_type\u001b[0m\u001b[0;34m=\u001b[0m\u001b[0mself\u001b[0m\u001b[0;34m.\u001b[0m\u001b[0mresponse_type\u001b[0m\u001b[0;34m)\u001b[0m\u001b[0;34m\u001b[0m\u001b[0;34m\u001b[0m\u001b[0m\n\u001b[0m\u001b[1;32m    247\u001b[0m \u001b[0;34m\u001b[0m\u001b[0m\n\u001b[1;32m    248\u001b[0m     \u001b[0;32mdef\u001b[0m \u001b[0mderive\u001b[0m\u001b[0;34m(\u001b[0m\u001b[0mself\u001b[0m\u001b[0;34m,\u001b[0m \u001b[0;34m**\u001b[0m\u001b[0mparams\u001b[0m\u001b[0;34m:\u001b[0m \u001b[0mAny\u001b[0m\u001b[0;34m)\u001b[0m \u001b[0;34m->\u001b[0m \u001b[0mDownloadResponse\u001b[0m\u001b[0;34m:\u001b[0m\u001b[0;34m\u001b[0m\u001b[0;34m\u001b[0m\u001b[0m\n",
            "\u001b[0;32m/usr/local/lib/python3.8/dist-packages/sentinelhub/decoding.py\u001b[0m in \u001b[0;36mdecode_data\u001b[0;34m(response_content, data_type)\u001b[0m\n\u001b[1;32m     36\u001b[0m         \u001b[0;32mreturn\u001b[0m \u001b[0mdecode_tar\u001b[0m\u001b[0;34m(\u001b[0m\u001b[0mresponse_content\u001b[0m\u001b[0;34m)\u001b[0m\u001b[0;34m\u001b[0m\u001b[0;34m\u001b[0m\u001b[0m\n\u001b[1;32m     37\u001b[0m     \u001b[0;32mif\u001b[0m \u001b[0mMimeType\u001b[0m\u001b[0;34m.\u001b[0m\u001b[0mis_image_format\u001b[0m\u001b[0;34m(\u001b[0m\u001b[0mdata_type\u001b[0m\u001b[0;34m)\u001b[0m\u001b[0;34m:\u001b[0m\u001b[0;34m\u001b[0m\u001b[0;34m\u001b[0m\u001b[0m\n\u001b[0;32m---> 38\u001b[0;31m         \u001b[0;32mreturn\u001b[0m \u001b[0mdecode_image\u001b[0m\u001b[0;34m(\u001b[0m\u001b[0mresponse_content\u001b[0m\u001b[0;34m,\u001b[0m \u001b[0mdata_type\u001b[0m\u001b[0;34m)\u001b[0m\u001b[0;34m\u001b[0m\u001b[0;34m\u001b[0m\u001b[0m\n\u001b[0m\u001b[1;32m     39\u001b[0m     \u001b[0;32mif\u001b[0m \u001b[0mdata_type\u001b[0m \u001b[0;32mis\u001b[0m \u001b[0mMimeType\u001b[0m\u001b[0;34m.\u001b[0m\u001b[0mXML\u001b[0m \u001b[0;32mor\u001b[0m \u001b[0mdata_type\u001b[0m \u001b[0;32mis\u001b[0m \u001b[0mMimeType\u001b[0m\u001b[0;34m.\u001b[0m\u001b[0mGML\u001b[0m \u001b[0;32mor\u001b[0m \u001b[0mdata_type\u001b[0m \u001b[0;32mis\u001b[0m \u001b[0mMimeType\u001b[0m\u001b[0;34m.\u001b[0m\u001b[0mSAFE\u001b[0m\u001b[0;34m:\u001b[0m\u001b[0;34m\u001b[0m\u001b[0;34m\u001b[0m\u001b[0m\n\u001b[1;32m     40\u001b[0m         \u001b[0;32mreturn\u001b[0m \u001b[0mElementTree\u001b[0m\u001b[0;34m.\u001b[0m\u001b[0mfromstring\u001b[0m\u001b[0;34m(\u001b[0m\u001b[0mresponse_content\u001b[0m\u001b[0;34m)\u001b[0m\u001b[0;34m\u001b[0m\u001b[0;34m\u001b[0m\u001b[0m\n",
            "\u001b[0;32m/usr/local/lib/python3.8/dist-packages/sentinelhub/decoding.py\u001b[0m in \u001b[0;36mdecode_image\u001b[0;34m(data, image_type)\u001b[0m\n\u001b[1;32m     65\u001b[0m         \u001b[0mimage\u001b[0m \u001b[0;34m=\u001b[0m \u001b[0mdecode_jp2_image\u001b[0m\u001b[0;34m(\u001b[0m\u001b[0mbytes_data\u001b[0m\u001b[0;34m)\u001b[0m\u001b[0;34m\u001b[0m\u001b[0;34m\u001b[0m\u001b[0m\n\u001b[1;32m     66\u001b[0m     \u001b[0;32melse\u001b[0m\u001b[0;34m:\u001b[0m\u001b[0;34m\u001b[0m\u001b[0;34m\u001b[0m\u001b[0m\n\u001b[0;32m---> 67\u001b[0;31m         \u001b[0mimage\u001b[0m \u001b[0;34m=\u001b[0m \u001b[0mdecode_image_with_pillow\u001b[0m\u001b[0;34m(\u001b[0m\u001b[0mbytes_data\u001b[0m\u001b[0;34m)\u001b[0m\u001b[0;34m\u001b[0m\u001b[0;34m\u001b[0m\u001b[0m\n\u001b[0m\u001b[1;32m     68\u001b[0m \u001b[0;34m\u001b[0m\u001b[0m\n\u001b[1;32m     69\u001b[0m     \u001b[0;32mif\u001b[0m \u001b[0mimage\u001b[0m \u001b[0;32mis\u001b[0m \u001b[0;32mNone\u001b[0m\u001b[0;34m:\u001b[0m\u001b[0;34m\u001b[0m\u001b[0;34m\u001b[0m\u001b[0m\n",
            "\u001b[0;32m/usr/local/lib/python3.8/dist-packages/sentinelhub/decoding.py\u001b[0m in \u001b[0;36mdecode_image_with_pillow\u001b[0;34m(stream)\u001b[0m\n\u001b[1;32m     80\u001b[0m     \u001b[0;32mwith\u001b[0m \u001b[0mwarnings\u001b[0m\u001b[0;34m.\u001b[0m\u001b[0mcatch_warnings\u001b[0m\u001b[0;34m(\u001b[0m\u001b[0;34m)\u001b[0m\u001b[0;34m:\u001b[0m\u001b[0;34m\u001b[0m\u001b[0;34m\u001b[0m\u001b[0m\n\u001b[1;32m     81\u001b[0m         \u001b[0mwarnings\u001b[0m\u001b[0;34m.\u001b[0m\u001b[0msimplefilter\u001b[0m\u001b[0;34m(\u001b[0m\u001b[0;34m\"ignore\"\u001b[0m\u001b[0;34m,\u001b[0m \u001b[0mImage\u001b[0m\u001b[0;34m.\u001b[0m\u001b[0mDecompressionBombWarning\u001b[0m\u001b[0;34m)\u001b[0m\u001b[0;34m\u001b[0m\u001b[0;34m\u001b[0m\u001b[0m\n\u001b[0;32m---> 82\u001b[0;31m         \u001b[0;32mreturn\u001b[0m \u001b[0mnp\u001b[0m\u001b[0;34m.\u001b[0m\u001b[0marray\u001b[0m\u001b[0;34m(\u001b[0m\u001b[0mImage\u001b[0m\u001b[0;34m.\u001b[0m\u001b[0mopen\u001b[0m\u001b[0;34m(\u001b[0m\u001b[0mstream\u001b[0m\u001b[0;34m)\u001b[0m\u001b[0;34m)\u001b[0m\u001b[0;34m\u001b[0m\u001b[0;34m\u001b[0m\u001b[0m\n\u001b[0m\u001b[1;32m     83\u001b[0m \u001b[0;34m\u001b[0m\u001b[0m\n\u001b[1;32m     84\u001b[0m \u001b[0;34m\u001b[0m\u001b[0m\n",
            "\u001b[0;32m/usr/local/lib/python3.8/dist-packages/PIL/Image.py\u001b[0m in \u001b[0;36mopen\u001b[0;34m(fp, mode)\u001b[0m\n\u001b[1;32m   2893\u001b[0m     \u001b[0;32mreturn\u001b[0m \u001b[0;32mTrue\u001b[0m\u001b[0;34m\u001b[0m\u001b[0;34m\u001b[0m\u001b[0m\n\u001b[1;32m   2894\u001b[0m \u001b[0;34m\u001b[0m\u001b[0m\n\u001b[0;32m-> 2895\u001b[0;31m \u001b[0;34m\u001b[0m\u001b[0m\n\u001b[0m\u001b[1;32m   2896\u001b[0m \u001b[0;32mdef\u001b[0m \u001b[0mnew\u001b[0m\u001b[0;34m(\u001b[0m\u001b[0mmode\u001b[0m\u001b[0;34m,\u001b[0m \u001b[0msize\u001b[0m\u001b[0;34m,\u001b[0m \u001b[0mcolor\u001b[0m\u001b[0;34m=\u001b[0m\u001b[0;36m0\u001b[0m\u001b[0;34m)\u001b[0m\u001b[0;34m:\u001b[0m\u001b[0;34m\u001b[0m\u001b[0;34m\u001b[0m\u001b[0m\n\u001b[1;32m   2897\u001b[0m     \"\"\"\n",
            "\u001b[0;31mUnidentifiedImageError\u001b[0m: cannot identify image file <_io.BytesIO object at 0x7f86550aea90>"
          ]
        }
      ]
    },
    {
      "cell_type": "code",
      "source": [
        "# sentinelhub request to know that you're using process api \n",
        "i=0\n",
        "j=1\n",
        "\n",
        "print( \"The output directory has been created \\n\")\n",
        "while j<len(List):\n",
        "  request_code = SentinelHubRequest(\n",
        "      data_folder=\"dir_ndsi60\",\n",
        "      evalscript=evalscript_ndsi,\n",
        "      input_data=[\n",
        "          SentinelHubRequest.input_data(\n",
        "              data_collection=DataCollection.MODIS,                      #L2A is way better than L1C because of atmospheric correction\n",
        "              time_interval=(List[i], List[j]),\n",
        "          )\n",
        "      ],\n",
        "      responses=[SentinelHubRequest.output_response(\"default\", MimeType.TIFF)],\n",
        "      bbox=salt_bbox,\n",
        "      size=salt_size,\n",
        "      config=config,\n",
        "  )\n",
        "\n",
        "  i+=1\n",
        "  j+=1\n",
        "\n",
        "  print( \"TIFF file with all needed bands was saved \\n\")\n",
        "  #Saving your img\n",
        "  result_imgs = request_code.get_data(save_data=True)"
      ],
      "metadata": {
        "colab": {
          "base_uri": "https://localhost:8080/"
        },
        "id": "UgiIGb5FftR5",
        "outputId": "e4e06905-defd-4dbf-f822-2bc6666dacd3"
      },
      "execution_count": null,
      "outputs": [
        {
          "output_type": "stream",
          "name": "stdout",
          "text": [
            "The output directory has been created \n",
            "\n",
            "TIFF file with all needed bands was saved \n",
            "\n",
            "TIFF file with all needed bands was saved \n",
            "\n",
            "TIFF file with all needed bands was saved \n",
            "\n",
            "TIFF file with all needed bands was saved \n",
            "\n",
            "TIFF file with all needed bands was saved \n",
            "\n",
            "TIFF file with all needed bands was saved \n",
            "\n",
            "TIFF file with all needed bands was saved \n",
            "\n",
            "TIFF file with all needed bands was saved \n",
            "\n",
            "TIFF file with all needed bands was saved \n",
            "\n",
            "TIFF file with all needed bands was saved \n",
            "\n",
            "TIFF file with all needed bands was saved \n",
            "\n",
            "TIFF file with all needed bands was saved \n",
            "\n",
            "TIFF file with all needed bands was saved \n",
            "\n",
            "TIFF file with all needed bands was saved \n",
            "\n",
            "TIFF file with all needed bands was saved \n",
            "\n",
            "TIFF file with all needed bands was saved \n",
            "\n",
            "TIFF file with all needed bands was saved \n",
            "\n",
            "TIFF file with all needed bands was saved \n",
            "\n",
            "TIFF file with all needed bands was saved \n",
            "\n",
            "TIFF file with all needed bands was saved \n",
            "\n",
            "TIFF file with all needed bands was saved \n",
            "\n",
            "TIFF file with all needed bands was saved \n",
            "\n",
            "TIFF file with all needed bands was saved \n",
            "\n",
            "TIFF file with all needed bands was saved \n",
            "\n",
            "TIFF file with all needed bands was saved \n",
            "\n",
            "TIFF file with all needed bands was saved \n",
            "\n",
            "TIFF file with all needed bands was saved \n",
            "\n",
            "TIFF file with all needed bands was saved \n",
            "\n",
            "TIFF file with all needed bands was saved \n",
            "\n",
            "TIFF file with all needed bands was saved \n",
            "\n",
            "TIFF file with all needed bands was saved \n",
            "\n",
            "TIFF file with all needed bands was saved \n",
            "\n",
            "TIFF file with all needed bands was saved \n",
            "\n",
            "TIFF file with all needed bands was saved \n",
            "\n",
            "TIFF file with all needed bands was saved \n",
            "\n",
            "TIFF file with all needed bands was saved \n",
            "\n"
          ]
        }
      ]
    },
    {
      "cell_type": "code",
      "source": [
        "from google.colab import files\n",
        "files.download('/content/dir_ndvi.zip')"
      ],
      "metadata": {
        "colab": {
          "base_uri": "https://localhost:8080/",
          "height": 17
        },
        "id": "bAou5EjUgQ_v",
        "outputId": "75ed2f59-e8d1-47a9-c8c8-26a2fd06cf21"
      },
      "execution_count": null,
      "outputs": [
        {
          "output_type": "display_data",
          "data": {
            "text/plain": [
              "<IPython.core.display.Javascript object>"
            ],
            "application/javascript": [
              "\n",
              "    async function download(id, filename, size) {\n",
              "      if (!google.colab.kernel.accessAllowed) {\n",
              "        return;\n",
              "      }\n",
              "      const div = document.createElement('div');\n",
              "      const label = document.createElement('label');\n",
              "      label.textContent = `Downloading \"${filename}\": `;\n",
              "      div.appendChild(label);\n",
              "      const progress = document.createElement('progress');\n",
              "      progress.max = size;\n",
              "      div.appendChild(progress);\n",
              "      document.body.appendChild(div);\n",
              "\n",
              "      const buffers = [];\n",
              "      let downloaded = 0;\n",
              "\n",
              "      const channel = await google.colab.kernel.comms.open(id);\n",
              "      // Send a message to notify the kernel that we're ready.\n",
              "      channel.send({})\n",
              "\n",
              "      for await (const message of channel.messages) {\n",
              "        // Send a message to notify the kernel that we're ready.\n",
              "        channel.send({})\n",
              "        if (message.buffers) {\n",
              "          for (const buffer of message.buffers) {\n",
              "            buffers.push(buffer);\n",
              "            downloaded += buffer.byteLength;\n",
              "            progress.value = downloaded;\n",
              "          }\n",
              "        }\n",
              "      }\n",
              "      const blob = new Blob(buffers, {type: 'application/binary'});\n",
              "      const a = document.createElement('a');\n",
              "      a.href = window.URL.createObjectURL(blob);\n",
              "      a.download = filename;\n",
              "      div.appendChild(a);\n",
              "      a.click();\n",
              "      div.remove();\n",
              "    }\n",
              "  "
            ]
          },
          "metadata": {}
        },
        {
          "output_type": "display_data",
          "data": {
            "text/plain": [
              "<IPython.core.display.Javascript object>"
            ],
            "application/javascript": [
              "download(\"download_8014443f-cb3a-432e-a450-f1f1c3d666a6\", \"dir_ndvi.zip\", 1080449)"
            ]
          },
          "metadata": {}
        }
      ]
    }
  ],
  "metadata": {
    "colab": {
      "provenance": []
    },
    "kernelspec": {
      "name": "python3",
      "language": "python",
      "display_name": "Python 3 (ipykernel)"
    },
    "language_info": {
      "name": "python",
      "version": "3.8.13",
      "mimetype": "text/x-python",
      "codemirror_mode": {
        "name": "ipython",
        "version": 3
      },
      "pygments_lexer": "ipython3",
      "nbconvert_exporter": "python",
      "file_extension": ".py"
    },
    "kernel_info": {
      "name": "python3"
    },
    "nteract": {
      "version": "nteract-front-end@1.0.0"
    },
    "microsoft": {
      "host": {
        "AzureML": {
          "notebookHasBeenCompleted": true
        }
      }
    },
    "accelerator": "GPU",
    "gpuClass": "standard"
  },
  "nbformat": 4,
  "nbformat_minor": 0
}